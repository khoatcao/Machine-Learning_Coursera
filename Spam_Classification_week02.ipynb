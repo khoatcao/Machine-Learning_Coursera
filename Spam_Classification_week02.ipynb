{
  "nbformat": 4,
  "nbformat_minor": 0,
  "metadata": {
    "colab": {
      "name": "Spam_Classification_week02.ipynb",
      "provenance": [],
      "collapsed_sections": [],
      "toc_visible": true
    },
    "kernelspec": {
      "name": "python3",
      "display_name": "Python 3"
    }
  },
  "cells": [
    {
      "cell_type": "markdown",
      "metadata": {
        "id": "SpKz1-x7QN9C"
      },
      "source": [
        "# import required libraries"
      ]
    },
    {
      "cell_type": "code",
      "metadata": {
        "id": "zPlM8zwUAswp"
      },
      "source": [
        "import numpy as np \n",
        "import scipy as sp \n",
        "import pandas as pd \n",
        "import matplotlib as mpl \n",
        "import matplotlib.pyplot as plt \n",
        "import seaborn as sns  \n",
        "\n",
        "from numpy import set_printoptions\n",
        "\n",
        "\n",
        "from sklearn.tree import DecisionTreeClassifier # model \n",
        "from sklearn.ensemble import AdaBoostClassifier # model \n",
        "from sklearn.ensemble import RandomForestClassifier # model \n",
        "from sklearn.svm import SVC # support vector machine learning model  \n",
        "from sklearn.linear_model import LogisticRegression # model \n",
        "from sklearn.neural_network import MLPClassifier #model \n",
        "\n",
        "from sklearn import metrics   # the function computes subset accuracy\n",
        "from sklearn.model_selection import cross_val_score # evaluate score by cross vali\n",
        "from sklearn.model_selection import KFold # splitting training set into k part subset with the expection to perform well on new data and unseen  \n",
        "from sklearn.feature_selection import RFE\n",
        "from sklearn.ensemble import ExtraTreesClassifier\n",
        "from sklearn.decomposition import PCA\n",
        "from sklearn.neighbors import KNeighborsClassifier\n",
        "from sklearn.naive_bayes import GaussianNB\n",
        "from sklearn.discriminant_analysis import LinearDiscriminantAnalysis\n",
        "\n",
        "from sklearn.metrics import confusion_matrix\n",
        "from sklearn.metrics import classification_report"
      ],
      "execution_count": 72,
      "outputs": []
    },
    {
      "cell_type": "markdown",
      "metadata": {
        "id": "TtdPeE4dQXqm"
      },
      "source": [
        "# Read data "
      ]
    },
    {
      "cell_type": "code",
      "metadata": {
        "id": "ddPjSCyNGyTF"
      },
      "source": [
        "spam_data = pd.read_csv('spam_original.csv')"
      ],
      "execution_count": 73,
      "outputs": []
    },
    {
      "cell_type": "code",
      "metadata": {
        "id": "zVxmeC5hJ7gS",
        "outputId": "7d75360b-da7a-4e6f-da9f-ca4c37e99b6b",
        "colab": {
          "base_uri": "https://localhost:8080/",
          "height": 422
        }
      },
      "source": [
        "spam_data "
      ],
      "execution_count": 74,
      "outputs": [
        {
          "output_type": "execute_result",
          "data": {
            "text/html": [
              "<div>\n",
              "<style scoped>\n",
              "    .dataframe tbody tr th:only-of-type {\n",
              "        vertical-align: middle;\n",
              "    }\n",
              "\n",
              "    .dataframe tbody tr th {\n",
              "        vertical-align: top;\n",
              "    }\n",
              "\n",
              "    .dataframe thead th {\n",
              "        text-align: right;\n",
              "    }\n",
              "</style>\n",
              "<table border=\"1\" class=\"dataframe\">\n",
              "  <thead>\n",
              "    <tr style=\"text-align: right;\">\n",
              "      <th></th>\n",
              "      <th>word_freq_make</th>\n",
              "      <th>word_freq_address</th>\n",
              "      <th>word_freq_all</th>\n",
              "      <th>word_freq_3d</th>\n",
              "      <th>word_freq_our</th>\n",
              "      <th>word_freq_over</th>\n",
              "      <th>word_freq_remove</th>\n",
              "      <th>word_freq_internet</th>\n",
              "      <th>word_freq_order</th>\n",
              "      <th>word_freq_mail</th>\n",
              "      <th>word_freq_receive</th>\n",
              "      <th>word_freq_will</th>\n",
              "      <th>word_freq_people</th>\n",
              "      <th>word_freq_report</th>\n",
              "      <th>word_freq_addresses</th>\n",
              "      <th>word_freq_free</th>\n",
              "      <th>word_freq_business</th>\n",
              "      <th>word_freq_email</th>\n",
              "      <th>word_freq_you</th>\n",
              "      <th>word_freq_credit</th>\n",
              "      <th>word_freq_your</th>\n",
              "      <th>word_freq_font</th>\n",
              "      <th>word_freq_000</th>\n",
              "      <th>word_freq_money</th>\n",
              "      <th>word_freq_hp</th>\n",
              "      <th>word_freq_hpl</th>\n",
              "      <th>word_freq_george</th>\n",
              "      <th>word_freq_650</th>\n",
              "      <th>word_freq_lab</th>\n",
              "      <th>word_freq_labs</th>\n",
              "      <th>word_freq_telnet</th>\n",
              "      <th>word_freq_857</th>\n",
              "      <th>word_freq_data</th>\n",
              "      <th>word_freq_415</th>\n",
              "      <th>word_freq_85</th>\n",
              "      <th>word_freq_technology</th>\n",
              "      <th>word_freq_1999</th>\n",
              "      <th>word_freq_parts</th>\n",
              "      <th>word_freq_pm</th>\n",
              "      <th>word_freq_direct</th>\n",
              "      <th>word_freq_cs</th>\n",
              "      <th>word_freq_meeting</th>\n",
              "      <th>word_freq_original</th>\n",
              "      <th>word_freq_project</th>\n",
              "      <th>word_freq_re</th>\n",
              "      <th>word_freq_edu</th>\n",
              "      <th>word_freq_table</th>\n",
              "      <th>word_freq_conference</th>\n",
              "      <th>char_freq_semicolon</th>\n",
              "      <th>char_freq_leftbrac</th>\n",
              "      <th>char_freq_leftsquarebrac</th>\n",
              "      <th>char_freq_exclaim</th>\n",
              "      <th>char_freq_dollar</th>\n",
              "      <th>char_freq_pound</th>\n",
              "      <th>capital_run_length_average</th>\n",
              "      <th>capital_run_length_longest</th>\n",
              "      <th>capital_run_length_total</th>\n",
              "      <th>spam</th>\n",
              "    </tr>\n",
              "  </thead>\n",
              "  <tbody>\n",
              "    <tr>\n",
              "      <th>0</th>\n",
              "      <td>0.00</td>\n",
              "      <td>0.64</td>\n",
              "      <td>0.64</td>\n",
              "      <td>0.0</td>\n",
              "      <td>0.32</td>\n",
              "      <td>0.00</td>\n",
              "      <td>0.00</td>\n",
              "      <td>0.00</td>\n",
              "      <td>0.00</td>\n",
              "      <td>0.00</td>\n",
              "      <td>0.00</td>\n",
              "      <td>0.64</td>\n",
              "      <td>0.00</td>\n",
              "      <td>0.00</td>\n",
              "      <td>0.00</td>\n",
              "      <td>0.32</td>\n",
              "      <td>0.00</td>\n",
              "      <td>1.29</td>\n",
              "      <td>1.93</td>\n",
              "      <td>0.00</td>\n",
              "      <td>0.96</td>\n",
              "      <td>0.0</td>\n",
              "      <td>0.00</td>\n",
              "      <td>0.00</td>\n",
              "      <td>0.0</td>\n",
              "      <td>0.0</td>\n",
              "      <td>0.0</td>\n",
              "      <td>0.0</td>\n",
              "      <td>0.0</td>\n",
              "      <td>0.0</td>\n",
              "      <td>0.0</td>\n",
              "      <td>0.0</td>\n",
              "      <td>0.0</td>\n",
              "      <td>0.0</td>\n",
              "      <td>0.0</td>\n",
              "      <td>0.0</td>\n",
              "      <td>0.00</td>\n",
              "      <td>0.0</td>\n",
              "      <td>0.0</td>\n",
              "      <td>0.00</td>\n",
              "      <td>0.0</td>\n",
              "      <td>0.0</td>\n",
              "      <td>0.00</td>\n",
              "      <td>0.00</td>\n",
              "      <td>0.00</td>\n",
              "      <td>0.00</td>\n",
              "      <td>0.0</td>\n",
              "      <td>0.0</td>\n",
              "      <td>0.000</td>\n",
              "      <td>0.000</td>\n",
              "      <td>0.0</td>\n",
              "      <td>0.778</td>\n",
              "      <td>0.000</td>\n",
              "      <td>0.000</td>\n",
              "      <td>3.756</td>\n",
              "      <td>61</td>\n",
              "      <td>278</td>\n",
              "      <td>1</td>\n",
              "    </tr>\n",
              "    <tr>\n",
              "      <th>1</th>\n",
              "      <td>0.21</td>\n",
              "      <td>0.28</td>\n",
              "      <td>0.50</td>\n",
              "      <td>0.0</td>\n",
              "      <td>0.14</td>\n",
              "      <td>0.28</td>\n",
              "      <td>0.21</td>\n",
              "      <td>0.07</td>\n",
              "      <td>0.00</td>\n",
              "      <td>0.94</td>\n",
              "      <td>0.21</td>\n",
              "      <td>0.79</td>\n",
              "      <td>0.65</td>\n",
              "      <td>0.21</td>\n",
              "      <td>0.14</td>\n",
              "      <td>0.14</td>\n",
              "      <td>0.07</td>\n",
              "      <td>0.28</td>\n",
              "      <td>3.47</td>\n",
              "      <td>0.00</td>\n",
              "      <td>1.59</td>\n",
              "      <td>0.0</td>\n",
              "      <td>0.43</td>\n",
              "      <td>0.43</td>\n",
              "      <td>0.0</td>\n",
              "      <td>0.0</td>\n",
              "      <td>0.0</td>\n",
              "      <td>0.0</td>\n",
              "      <td>0.0</td>\n",
              "      <td>0.0</td>\n",
              "      <td>0.0</td>\n",
              "      <td>0.0</td>\n",
              "      <td>0.0</td>\n",
              "      <td>0.0</td>\n",
              "      <td>0.0</td>\n",
              "      <td>0.0</td>\n",
              "      <td>0.07</td>\n",
              "      <td>0.0</td>\n",
              "      <td>0.0</td>\n",
              "      <td>0.00</td>\n",
              "      <td>0.0</td>\n",
              "      <td>0.0</td>\n",
              "      <td>0.00</td>\n",
              "      <td>0.00</td>\n",
              "      <td>0.00</td>\n",
              "      <td>0.00</td>\n",
              "      <td>0.0</td>\n",
              "      <td>0.0</td>\n",
              "      <td>0.000</td>\n",
              "      <td>0.132</td>\n",
              "      <td>0.0</td>\n",
              "      <td>0.372</td>\n",
              "      <td>0.180</td>\n",
              "      <td>0.048</td>\n",
              "      <td>5.114</td>\n",
              "      <td>101</td>\n",
              "      <td>1028</td>\n",
              "      <td>1</td>\n",
              "    </tr>\n",
              "    <tr>\n",
              "      <th>2</th>\n",
              "      <td>0.06</td>\n",
              "      <td>0.00</td>\n",
              "      <td>0.71</td>\n",
              "      <td>0.0</td>\n",
              "      <td>1.23</td>\n",
              "      <td>0.19</td>\n",
              "      <td>0.19</td>\n",
              "      <td>0.12</td>\n",
              "      <td>0.64</td>\n",
              "      <td>0.25</td>\n",
              "      <td>0.38</td>\n",
              "      <td>0.45</td>\n",
              "      <td>0.12</td>\n",
              "      <td>0.00</td>\n",
              "      <td>1.75</td>\n",
              "      <td>0.06</td>\n",
              "      <td>0.06</td>\n",
              "      <td>1.03</td>\n",
              "      <td>1.36</td>\n",
              "      <td>0.32</td>\n",
              "      <td>0.51</td>\n",
              "      <td>0.0</td>\n",
              "      <td>1.16</td>\n",
              "      <td>0.06</td>\n",
              "      <td>0.0</td>\n",
              "      <td>0.0</td>\n",
              "      <td>0.0</td>\n",
              "      <td>0.0</td>\n",
              "      <td>0.0</td>\n",
              "      <td>0.0</td>\n",
              "      <td>0.0</td>\n",
              "      <td>0.0</td>\n",
              "      <td>0.0</td>\n",
              "      <td>0.0</td>\n",
              "      <td>0.0</td>\n",
              "      <td>0.0</td>\n",
              "      <td>0.00</td>\n",
              "      <td>0.0</td>\n",
              "      <td>0.0</td>\n",
              "      <td>0.06</td>\n",
              "      <td>0.0</td>\n",
              "      <td>0.0</td>\n",
              "      <td>0.12</td>\n",
              "      <td>0.00</td>\n",
              "      <td>0.06</td>\n",
              "      <td>0.06</td>\n",
              "      <td>0.0</td>\n",
              "      <td>0.0</td>\n",
              "      <td>0.010</td>\n",
              "      <td>0.143</td>\n",
              "      <td>0.0</td>\n",
              "      <td>0.276</td>\n",
              "      <td>0.184</td>\n",
              "      <td>0.010</td>\n",
              "      <td>9.821</td>\n",
              "      <td>485</td>\n",
              "      <td>2259</td>\n",
              "      <td>1</td>\n",
              "    </tr>\n",
              "    <tr>\n",
              "      <th>3</th>\n",
              "      <td>0.00</td>\n",
              "      <td>0.00</td>\n",
              "      <td>0.00</td>\n",
              "      <td>0.0</td>\n",
              "      <td>0.63</td>\n",
              "      <td>0.00</td>\n",
              "      <td>0.31</td>\n",
              "      <td>0.63</td>\n",
              "      <td>0.31</td>\n",
              "      <td>0.63</td>\n",
              "      <td>0.31</td>\n",
              "      <td>0.31</td>\n",
              "      <td>0.31</td>\n",
              "      <td>0.00</td>\n",
              "      <td>0.00</td>\n",
              "      <td>0.31</td>\n",
              "      <td>0.00</td>\n",
              "      <td>0.00</td>\n",
              "      <td>3.18</td>\n",
              "      <td>0.00</td>\n",
              "      <td>0.31</td>\n",
              "      <td>0.0</td>\n",
              "      <td>0.00</td>\n",
              "      <td>0.00</td>\n",
              "      <td>0.0</td>\n",
              "      <td>0.0</td>\n",
              "      <td>0.0</td>\n",
              "      <td>0.0</td>\n",
              "      <td>0.0</td>\n",
              "      <td>0.0</td>\n",
              "      <td>0.0</td>\n",
              "      <td>0.0</td>\n",
              "      <td>0.0</td>\n",
              "      <td>0.0</td>\n",
              "      <td>0.0</td>\n",
              "      <td>0.0</td>\n",
              "      <td>0.00</td>\n",
              "      <td>0.0</td>\n",
              "      <td>0.0</td>\n",
              "      <td>0.00</td>\n",
              "      <td>0.0</td>\n",
              "      <td>0.0</td>\n",
              "      <td>0.00</td>\n",
              "      <td>0.00</td>\n",
              "      <td>0.00</td>\n",
              "      <td>0.00</td>\n",
              "      <td>0.0</td>\n",
              "      <td>0.0</td>\n",
              "      <td>0.000</td>\n",
              "      <td>0.137</td>\n",
              "      <td>0.0</td>\n",
              "      <td>0.137</td>\n",
              "      <td>0.000</td>\n",
              "      <td>0.000</td>\n",
              "      <td>3.537</td>\n",
              "      <td>40</td>\n",
              "      <td>191</td>\n",
              "      <td>1</td>\n",
              "    </tr>\n",
              "    <tr>\n",
              "      <th>4</th>\n",
              "      <td>0.00</td>\n",
              "      <td>0.00</td>\n",
              "      <td>0.00</td>\n",
              "      <td>0.0</td>\n",
              "      <td>0.63</td>\n",
              "      <td>0.00</td>\n",
              "      <td>0.31</td>\n",
              "      <td>0.63</td>\n",
              "      <td>0.31</td>\n",
              "      <td>0.63</td>\n",
              "      <td>0.31</td>\n",
              "      <td>0.31</td>\n",
              "      <td>0.31</td>\n",
              "      <td>0.00</td>\n",
              "      <td>0.00</td>\n",
              "      <td>0.31</td>\n",
              "      <td>0.00</td>\n",
              "      <td>0.00</td>\n",
              "      <td>3.18</td>\n",
              "      <td>0.00</td>\n",
              "      <td>0.31</td>\n",
              "      <td>0.0</td>\n",
              "      <td>0.00</td>\n",
              "      <td>0.00</td>\n",
              "      <td>0.0</td>\n",
              "      <td>0.0</td>\n",
              "      <td>0.0</td>\n",
              "      <td>0.0</td>\n",
              "      <td>0.0</td>\n",
              "      <td>0.0</td>\n",
              "      <td>0.0</td>\n",
              "      <td>0.0</td>\n",
              "      <td>0.0</td>\n",
              "      <td>0.0</td>\n",
              "      <td>0.0</td>\n",
              "      <td>0.0</td>\n",
              "      <td>0.00</td>\n",
              "      <td>0.0</td>\n",
              "      <td>0.0</td>\n",
              "      <td>0.00</td>\n",
              "      <td>0.0</td>\n",
              "      <td>0.0</td>\n",
              "      <td>0.00</td>\n",
              "      <td>0.00</td>\n",
              "      <td>0.00</td>\n",
              "      <td>0.00</td>\n",
              "      <td>0.0</td>\n",
              "      <td>0.0</td>\n",
              "      <td>0.000</td>\n",
              "      <td>0.135</td>\n",
              "      <td>0.0</td>\n",
              "      <td>0.135</td>\n",
              "      <td>0.000</td>\n",
              "      <td>0.000</td>\n",
              "      <td>3.537</td>\n",
              "      <td>40</td>\n",
              "      <td>191</td>\n",
              "      <td>1</td>\n",
              "    </tr>\n",
              "    <tr>\n",
              "      <th>...</th>\n",
              "      <td>...</td>\n",
              "      <td>...</td>\n",
              "      <td>...</td>\n",
              "      <td>...</td>\n",
              "      <td>...</td>\n",
              "      <td>...</td>\n",
              "      <td>...</td>\n",
              "      <td>...</td>\n",
              "      <td>...</td>\n",
              "      <td>...</td>\n",
              "      <td>...</td>\n",
              "      <td>...</td>\n",
              "      <td>...</td>\n",
              "      <td>...</td>\n",
              "      <td>...</td>\n",
              "      <td>...</td>\n",
              "      <td>...</td>\n",
              "      <td>...</td>\n",
              "      <td>...</td>\n",
              "      <td>...</td>\n",
              "      <td>...</td>\n",
              "      <td>...</td>\n",
              "      <td>...</td>\n",
              "      <td>...</td>\n",
              "      <td>...</td>\n",
              "      <td>...</td>\n",
              "      <td>...</td>\n",
              "      <td>...</td>\n",
              "      <td>...</td>\n",
              "      <td>...</td>\n",
              "      <td>...</td>\n",
              "      <td>...</td>\n",
              "      <td>...</td>\n",
              "      <td>...</td>\n",
              "      <td>...</td>\n",
              "      <td>...</td>\n",
              "      <td>...</td>\n",
              "      <td>...</td>\n",
              "      <td>...</td>\n",
              "      <td>...</td>\n",
              "      <td>...</td>\n",
              "      <td>...</td>\n",
              "      <td>...</td>\n",
              "      <td>...</td>\n",
              "      <td>...</td>\n",
              "      <td>...</td>\n",
              "      <td>...</td>\n",
              "      <td>...</td>\n",
              "      <td>...</td>\n",
              "      <td>...</td>\n",
              "      <td>...</td>\n",
              "      <td>...</td>\n",
              "      <td>...</td>\n",
              "      <td>...</td>\n",
              "      <td>...</td>\n",
              "      <td>...</td>\n",
              "      <td>...</td>\n",
              "      <td>...</td>\n",
              "    </tr>\n",
              "    <tr>\n",
              "      <th>4596</th>\n",
              "      <td>0.31</td>\n",
              "      <td>0.00</td>\n",
              "      <td>0.62</td>\n",
              "      <td>0.0</td>\n",
              "      <td>0.00</td>\n",
              "      <td>0.31</td>\n",
              "      <td>0.00</td>\n",
              "      <td>0.00</td>\n",
              "      <td>0.00</td>\n",
              "      <td>0.00</td>\n",
              "      <td>0.00</td>\n",
              "      <td>1.88</td>\n",
              "      <td>0.00</td>\n",
              "      <td>0.00</td>\n",
              "      <td>0.00</td>\n",
              "      <td>0.00</td>\n",
              "      <td>0.00</td>\n",
              "      <td>0.00</td>\n",
              "      <td>0.62</td>\n",
              "      <td>0.00</td>\n",
              "      <td>0.00</td>\n",
              "      <td>0.0</td>\n",
              "      <td>0.00</td>\n",
              "      <td>0.00</td>\n",
              "      <td>0.0</td>\n",
              "      <td>0.0</td>\n",
              "      <td>0.0</td>\n",
              "      <td>0.0</td>\n",
              "      <td>0.0</td>\n",
              "      <td>0.0</td>\n",
              "      <td>0.0</td>\n",
              "      <td>0.0</td>\n",
              "      <td>0.0</td>\n",
              "      <td>0.0</td>\n",
              "      <td>0.0</td>\n",
              "      <td>0.0</td>\n",
              "      <td>0.00</td>\n",
              "      <td>0.0</td>\n",
              "      <td>0.0</td>\n",
              "      <td>0.00</td>\n",
              "      <td>0.0</td>\n",
              "      <td>0.0</td>\n",
              "      <td>0.00</td>\n",
              "      <td>0.31</td>\n",
              "      <td>0.31</td>\n",
              "      <td>0.31</td>\n",
              "      <td>0.0</td>\n",
              "      <td>0.0</td>\n",
              "      <td>0.000</td>\n",
              "      <td>0.232</td>\n",
              "      <td>0.0</td>\n",
              "      <td>0.000</td>\n",
              "      <td>0.000</td>\n",
              "      <td>0.000</td>\n",
              "      <td>1.142</td>\n",
              "      <td>3</td>\n",
              "      <td>88</td>\n",
              "      <td>0</td>\n",
              "    </tr>\n",
              "    <tr>\n",
              "      <th>4597</th>\n",
              "      <td>0.00</td>\n",
              "      <td>0.00</td>\n",
              "      <td>0.00</td>\n",
              "      <td>0.0</td>\n",
              "      <td>0.00</td>\n",
              "      <td>0.00</td>\n",
              "      <td>0.00</td>\n",
              "      <td>0.00</td>\n",
              "      <td>0.00</td>\n",
              "      <td>0.00</td>\n",
              "      <td>0.00</td>\n",
              "      <td>0.00</td>\n",
              "      <td>0.00</td>\n",
              "      <td>0.00</td>\n",
              "      <td>0.00</td>\n",
              "      <td>0.00</td>\n",
              "      <td>0.00</td>\n",
              "      <td>0.00</td>\n",
              "      <td>6.00</td>\n",
              "      <td>0.00</td>\n",
              "      <td>2.00</td>\n",
              "      <td>0.0</td>\n",
              "      <td>0.00</td>\n",
              "      <td>0.00</td>\n",
              "      <td>0.0</td>\n",
              "      <td>0.0</td>\n",
              "      <td>0.0</td>\n",
              "      <td>0.0</td>\n",
              "      <td>0.0</td>\n",
              "      <td>0.0</td>\n",
              "      <td>0.0</td>\n",
              "      <td>0.0</td>\n",
              "      <td>0.0</td>\n",
              "      <td>0.0</td>\n",
              "      <td>0.0</td>\n",
              "      <td>0.0</td>\n",
              "      <td>0.00</td>\n",
              "      <td>0.0</td>\n",
              "      <td>0.0</td>\n",
              "      <td>0.00</td>\n",
              "      <td>0.0</td>\n",
              "      <td>0.0</td>\n",
              "      <td>0.00</td>\n",
              "      <td>0.00</td>\n",
              "      <td>0.00</td>\n",
              "      <td>2.00</td>\n",
              "      <td>0.0</td>\n",
              "      <td>0.0</td>\n",
              "      <td>0.000</td>\n",
              "      <td>0.000</td>\n",
              "      <td>0.0</td>\n",
              "      <td>0.353</td>\n",
              "      <td>0.000</td>\n",
              "      <td>0.000</td>\n",
              "      <td>1.555</td>\n",
              "      <td>4</td>\n",
              "      <td>14</td>\n",
              "      <td>0</td>\n",
              "    </tr>\n",
              "    <tr>\n",
              "      <th>4598</th>\n",
              "      <td>0.30</td>\n",
              "      <td>0.00</td>\n",
              "      <td>0.30</td>\n",
              "      <td>0.0</td>\n",
              "      <td>0.00</td>\n",
              "      <td>0.00</td>\n",
              "      <td>0.00</td>\n",
              "      <td>0.00</td>\n",
              "      <td>0.00</td>\n",
              "      <td>0.00</td>\n",
              "      <td>0.00</td>\n",
              "      <td>1.80</td>\n",
              "      <td>0.30</td>\n",
              "      <td>0.00</td>\n",
              "      <td>0.00</td>\n",
              "      <td>0.00</td>\n",
              "      <td>0.00</td>\n",
              "      <td>0.90</td>\n",
              "      <td>1.50</td>\n",
              "      <td>0.00</td>\n",
              "      <td>0.30</td>\n",
              "      <td>0.0</td>\n",
              "      <td>0.00</td>\n",
              "      <td>0.00</td>\n",
              "      <td>0.0</td>\n",
              "      <td>0.0</td>\n",
              "      <td>0.0</td>\n",
              "      <td>0.0</td>\n",
              "      <td>0.0</td>\n",
              "      <td>0.0</td>\n",
              "      <td>0.0</td>\n",
              "      <td>0.0</td>\n",
              "      <td>0.0</td>\n",
              "      <td>0.0</td>\n",
              "      <td>0.0</td>\n",
              "      <td>0.0</td>\n",
              "      <td>0.00</td>\n",
              "      <td>0.0</td>\n",
              "      <td>0.0</td>\n",
              "      <td>0.00</td>\n",
              "      <td>0.0</td>\n",
              "      <td>0.0</td>\n",
              "      <td>0.00</td>\n",
              "      <td>0.00</td>\n",
              "      <td>0.00</td>\n",
              "      <td>1.20</td>\n",
              "      <td>0.0</td>\n",
              "      <td>0.0</td>\n",
              "      <td>0.102</td>\n",
              "      <td>0.718</td>\n",
              "      <td>0.0</td>\n",
              "      <td>0.000</td>\n",
              "      <td>0.000</td>\n",
              "      <td>0.000</td>\n",
              "      <td>1.404</td>\n",
              "      <td>6</td>\n",
              "      <td>118</td>\n",
              "      <td>0</td>\n",
              "    </tr>\n",
              "    <tr>\n",
              "      <th>4599</th>\n",
              "      <td>0.96</td>\n",
              "      <td>0.00</td>\n",
              "      <td>0.00</td>\n",
              "      <td>0.0</td>\n",
              "      <td>0.32</td>\n",
              "      <td>0.00</td>\n",
              "      <td>0.00</td>\n",
              "      <td>0.00</td>\n",
              "      <td>0.00</td>\n",
              "      <td>0.00</td>\n",
              "      <td>0.00</td>\n",
              "      <td>0.32</td>\n",
              "      <td>0.00</td>\n",
              "      <td>0.00</td>\n",
              "      <td>0.00</td>\n",
              "      <td>0.00</td>\n",
              "      <td>0.00</td>\n",
              "      <td>0.00</td>\n",
              "      <td>1.93</td>\n",
              "      <td>0.00</td>\n",
              "      <td>0.32</td>\n",
              "      <td>0.0</td>\n",
              "      <td>0.00</td>\n",
              "      <td>0.00</td>\n",
              "      <td>0.0</td>\n",
              "      <td>0.0</td>\n",
              "      <td>0.0</td>\n",
              "      <td>0.0</td>\n",
              "      <td>0.0</td>\n",
              "      <td>0.0</td>\n",
              "      <td>0.0</td>\n",
              "      <td>0.0</td>\n",
              "      <td>0.0</td>\n",
              "      <td>0.0</td>\n",
              "      <td>0.0</td>\n",
              "      <td>0.0</td>\n",
              "      <td>0.00</td>\n",
              "      <td>0.0</td>\n",
              "      <td>0.0</td>\n",
              "      <td>0.00</td>\n",
              "      <td>0.0</td>\n",
              "      <td>0.0</td>\n",
              "      <td>0.00</td>\n",
              "      <td>0.32</td>\n",
              "      <td>0.00</td>\n",
              "      <td>0.32</td>\n",
              "      <td>0.0</td>\n",
              "      <td>0.0</td>\n",
              "      <td>0.000</td>\n",
              "      <td>0.057</td>\n",
              "      <td>0.0</td>\n",
              "      <td>0.000</td>\n",
              "      <td>0.000</td>\n",
              "      <td>0.000</td>\n",
              "      <td>1.147</td>\n",
              "      <td>5</td>\n",
              "      <td>78</td>\n",
              "      <td>0</td>\n",
              "    </tr>\n",
              "    <tr>\n",
              "      <th>4600</th>\n",
              "      <td>0.00</td>\n",
              "      <td>0.00</td>\n",
              "      <td>0.65</td>\n",
              "      <td>0.0</td>\n",
              "      <td>0.00</td>\n",
              "      <td>0.00</td>\n",
              "      <td>0.00</td>\n",
              "      <td>0.00</td>\n",
              "      <td>0.00</td>\n",
              "      <td>0.00</td>\n",
              "      <td>0.00</td>\n",
              "      <td>0.00</td>\n",
              "      <td>0.65</td>\n",
              "      <td>0.00</td>\n",
              "      <td>0.00</td>\n",
              "      <td>0.00</td>\n",
              "      <td>0.00</td>\n",
              "      <td>0.00</td>\n",
              "      <td>4.60</td>\n",
              "      <td>0.00</td>\n",
              "      <td>0.65</td>\n",
              "      <td>0.0</td>\n",
              "      <td>0.00</td>\n",
              "      <td>0.00</td>\n",
              "      <td>0.0</td>\n",
              "      <td>0.0</td>\n",
              "      <td>0.0</td>\n",
              "      <td>0.0</td>\n",
              "      <td>0.0</td>\n",
              "      <td>0.0</td>\n",
              "      <td>0.0</td>\n",
              "      <td>0.0</td>\n",
              "      <td>0.0</td>\n",
              "      <td>0.0</td>\n",
              "      <td>0.0</td>\n",
              "      <td>0.0</td>\n",
              "      <td>0.00</td>\n",
              "      <td>0.0</td>\n",
              "      <td>0.0</td>\n",
              "      <td>0.00</td>\n",
              "      <td>0.0</td>\n",
              "      <td>0.0</td>\n",
              "      <td>0.00</td>\n",
              "      <td>0.00</td>\n",
              "      <td>1.97</td>\n",
              "      <td>0.65</td>\n",
              "      <td>0.0</td>\n",
              "      <td>0.0</td>\n",
              "      <td>0.000</td>\n",
              "      <td>0.000</td>\n",
              "      <td>0.0</td>\n",
              "      <td>0.125</td>\n",
              "      <td>0.000</td>\n",
              "      <td>0.000</td>\n",
              "      <td>1.250</td>\n",
              "      <td>5</td>\n",
              "      <td>40</td>\n",
              "      <td>0</td>\n",
              "    </tr>\n",
              "  </tbody>\n",
              "</table>\n",
              "<p>4601 rows × 58 columns</p>\n",
              "</div>"
            ],
            "text/plain": [
              "      word_freq_make   word_freq_address  ...   capital_run_length_total   spam\n",
              "0               0.00                0.64  ...                        278      1\n",
              "1               0.21                0.28  ...                       1028      1\n",
              "2               0.06                0.00  ...                       2259      1\n",
              "3               0.00                0.00  ...                        191      1\n",
              "4               0.00                0.00  ...                        191      1\n",
              "...              ...                 ...  ...                        ...    ...\n",
              "4596            0.31                0.00  ...                         88      0\n",
              "4597            0.00                0.00  ...                         14      0\n",
              "4598            0.30                0.00  ...                        118      0\n",
              "4599            0.96                0.00  ...                         78      0\n",
              "4600            0.00                0.00  ...                         40      0\n",
              "\n",
              "[4601 rows x 58 columns]"
            ]
          },
          "metadata": {
            "tags": []
          },
          "execution_count": 74
        }
      ]
    },
    {
      "cell_type": "code",
      "metadata": {
        "id": "bAM6jEdeKEYV",
        "outputId": "0a3d8f24-4e25-4f60-8677-c40d2f8b5f92",
        "colab": {
          "base_uri": "https://localhost:8080/",
          "height": 34
        }
      },
      "source": [
        "spam_data.shape"
      ],
      "execution_count": 75,
      "outputs": [
        {
          "output_type": "execute_result",
          "data": {
            "text/plain": [
              "(4601, 58)"
            ]
          },
          "metadata": {
            "tags": []
          },
          "execution_count": 75
        }
      ]
    },
    {
      "cell_type": "markdown",
      "metadata": {
        "id": "0KLlcpWFJpYy"
      },
      "source": [
        "# Preprocessing : "
      ]
    },
    {
      "cell_type": "markdown",
      "metadata": {
        "id": "y22ZdQo5svY0"
      },
      "source": [
        "###Checking for missing values in each colum using insnull and notnull method to check that whether the value is null or not null. The dataframe will return True for Nan and False  for not Nan.\n"
      ]
    },
    {
      "cell_type": "markdown",
      "metadata": {
        "id": "tnmel-tqLgrD"
      },
      "source": [
        "**The sum method will count the number of missing values of each \n",
        "\n",
        "1.   Élément de liste\n",
        "2.   Élément de liste\n",
        "\n",
        "individual feature**"
      ]
    },
    {
      "cell_type": "code",
      "metadata": {
        "id": "P7L74_iiJpxz",
        "outputId": "e9c88e3a-b910-49ce-cc7d-d7f576f62d1c",
        "colab": {
          "base_uri": "https://localhost:8080/",
          "height": 1000
        }
      },
      "source": [
        "spam_data.isnull() .sum()"
      ],
      "execution_count": 76,
      "outputs": [
        {
          "output_type": "execute_result",
          "data": {
            "text/plain": [
              "word_freq_make                 0\n",
              " word_freq_address             0\n",
              " word_freq_all                 0\n",
              " word_freq_3d                  0\n",
              " word_freq_our                 0\n",
              " word_freq_over                0\n",
              " word_freq_remove              0\n",
              " word_freq_internet            0\n",
              " word_freq_order               0\n",
              " word_freq_mail                0\n",
              " word_freq_receive             0\n",
              " word_freq_will                0\n",
              " word_freq_people              0\n",
              " word_freq_report              0\n",
              " word_freq_addresses           0\n",
              " word_freq_free                0\n",
              " word_freq_business            0\n",
              " word_freq_email               0\n",
              " word_freq_you                 0\n",
              " word_freq_credit              0\n",
              " word_freq_your                0\n",
              " word_freq_font                0\n",
              " word_freq_000                 0\n",
              " word_freq_money               0\n",
              " word_freq_hp                  0\n",
              " word_freq_hpl                 0\n",
              " word_freq_george              0\n",
              " word_freq_650                 0\n",
              " word_freq_lab                 0\n",
              " word_freq_labs                0\n",
              " word_freq_telnet              0\n",
              " word_freq_857                 0\n",
              " word_freq_data                0\n",
              " word_freq_415                 0\n",
              " word_freq_85                  0\n",
              " word_freq_technology          0\n",
              " word_freq_1999                0\n",
              " word_freq_parts               0\n",
              " word_freq_pm                  0\n",
              " word_freq_direct              0\n",
              " word_freq_cs                  0\n",
              " word_freq_meeting             0\n",
              " word_freq_original            0\n",
              " word_freq_project             0\n",
              " word_freq_re                  0\n",
              " word_freq_edu                 0\n",
              " word_freq_table               0\n",
              " word_freq_conference          0\n",
              " char_freq_semicolon           0\n",
              " char_freq_leftbrac            0\n",
              " char_freq_leftsquarebrac      0\n",
              " char_freq_exclaim             0\n",
              " char_freq_dollar              0\n",
              " char_freq_pound               0\n",
              " capital_run_length_average    0\n",
              " capital_run_length_longest    0\n",
              " capital_run_length_total      0\n",
              " spam                          0\n",
              "dtype: int64"
            ]
          },
          "metadata": {
            "tags": []
          },
          "execution_count": 76
        }
      ]
    },
    {
      "cell_type": "markdown",
      "metadata": {
        "id": "hfeXUDD1tpdp"
      },
      "source": [
        "The provided test above let us know that there are no missing values in the dataset "
      ]
    },
    {
      "cell_type": "markdown",
      "metadata": {
        "id": "dT8UFn6ssCX7"
      },
      "source": [
        "### Check for dtypes "
      ]
    },
    {
      "cell_type": "code",
      "metadata": {
        "id": "a_9btSppsBYP",
        "outputId": "734fb97c-1ae2-4b85-8f05-fb8402e6c9d8",
        "colab": {
          "base_uri": "https://localhost:8080/",
          "height": 1000
        }
      },
      "source": [
        "spam_data.dtypes "
      ],
      "execution_count": 77,
      "outputs": [
        {
          "output_type": "execute_result",
          "data": {
            "text/plain": [
              "word_freq_make                 float64\n",
              " word_freq_address             float64\n",
              " word_freq_all                 float64\n",
              " word_freq_3d                  float64\n",
              " word_freq_our                 float64\n",
              " word_freq_over                float64\n",
              " word_freq_remove              float64\n",
              " word_freq_internet            float64\n",
              " word_freq_order               float64\n",
              " word_freq_mail                float64\n",
              " word_freq_receive             float64\n",
              " word_freq_will                float64\n",
              " word_freq_people              float64\n",
              " word_freq_report              float64\n",
              " word_freq_addresses           float64\n",
              " word_freq_free                float64\n",
              " word_freq_business            float64\n",
              " word_freq_email               float64\n",
              " word_freq_you                 float64\n",
              " word_freq_credit              float64\n",
              " word_freq_your                float64\n",
              " word_freq_font                float64\n",
              " word_freq_000                 float64\n",
              " word_freq_money               float64\n",
              " word_freq_hp                  float64\n",
              " word_freq_hpl                 float64\n",
              " word_freq_george              float64\n",
              " word_freq_650                 float64\n",
              " word_freq_lab                 float64\n",
              " word_freq_labs                float64\n",
              " word_freq_telnet              float64\n",
              " word_freq_857                 float64\n",
              " word_freq_data                float64\n",
              " word_freq_415                 float64\n",
              " word_freq_85                  float64\n",
              " word_freq_technology          float64\n",
              " word_freq_1999                float64\n",
              " word_freq_parts               float64\n",
              " word_freq_pm                  float64\n",
              " word_freq_direct              float64\n",
              " word_freq_cs                  float64\n",
              " word_freq_meeting             float64\n",
              " word_freq_original            float64\n",
              " word_freq_project             float64\n",
              " word_freq_re                  float64\n",
              " word_freq_edu                 float64\n",
              " word_freq_table               float64\n",
              " word_freq_conference          float64\n",
              " char_freq_semicolon           float64\n",
              " char_freq_leftbrac            float64\n",
              " char_freq_leftsquarebrac      float64\n",
              " char_freq_exclaim             float64\n",
              " char_freq_dollar              float64\n",
              " char_freq_pound               float64\n",
              " capital_run_length_average    float64\n",
              " capital_run_length_longest      int64\n",
              " capital_run_length_total        int64\n",
              " spam                            int64\n",
              "dtype: object"
            ]
          },
          "metadata": {
            "tags": []
          },
          "execution_count": 77
        }
      ]
    },
    {
      "cell_type": "markdown",
      "metadata": {
        "id": "Z_3ZC9Z4G7kc"
      },
      "source": [
        "### Count the number of spam and non-spam(ham) in the spam feature"
      ]
    },
    {
      "cell_type": "code",
      "metadata": {
        "id": "f17-kfZMF1TJ",
        "outputId": "c170eca6-312c-46e5-c351-3fb6dddc5e0e",
        "colab": {
          "base_uri": "https://localhost:8080/",
          "height": 67
        }
      },
      "source": [
        "spam_data[' spam'].value_counts ().sum"
      ],
      "execution_count": 78,
      "outputs": [
        {
          "output_type": "execute_result",
          "data": {
            "text/plain": [
              "<bound method Series.sum of 0    2788\n",
              "1    1813\n",
              "Name:  spam, dtype: int64>"
            ]
          },
          "metadata": {
            "tags": []
          },
          "execution_count": 78
        }
      ]
    },
    {
      "cell_type": "markdown",
      "metadata": {
        "id": "W2WbOb2THzg7"
      },
      "source": [
        "From this result we should consider on not spam(0)  > spam 900"
      ]
    },
    {
      "cell_type": "markdown",
      "metadata": {
        "id": "pOkRCEBisVZf"
      },
      "source": [
        "### As you might know, machine learning algorithms only work well with numerical data. From the result above, there is no categorical feature on our dataset"
      ]
    },
    {
      "cell_type": "markdown",
      "metadata": {
        "id": "rM8QBhM0sxqX"
      },
      "source": [
        "### In the following steps, I am going to split dataset into test set and train set and start building machine learning to predict the outcome"
      ]
    },
    {
      "cell_type": "code",
      "metadata": {
        "id": "o-LkTAzyLSj1"
      },
      "source": [
        "X = spam_data.iloc[:,:-1]\n",
        "y = spam_data.iloc[:,-1]"
      ],
      "execution_count": 79,
      "outputs": []
    },
    {
      "cell_type": "code",
      "metadata": {
        "id": "1lobHaxpMK7i",
        "outputId": "06376129-085c-476c-ee7d-0d1190285a86",
        "colab": {
          "base_uri": "https://localhost:8080/",
          "height": 34
        }
      },
      "source": [
        "X.shape"
      ],
      "execution_count": 80,
      "outputs": [
        {
          "output_type": "execute_result",
          "data": {
            "text/plain": [
              "(4601, 57)"
            ]
          },
          "metadata": {
            "tags": []
          },
          "execution_count": 80
        }
      ]
    },
    {
      "cell_type": "code",
      "metadata": {
        "id": "Lx0oqWhUNOGq",
        "outputId": "cbbd2647-5a1f-4203-d3b0-242a233ef9b2",
        "colab": {
          "base_uri": "https://localhost:8080/",
          "height": 34
        }
      },
      "source": [
        "y.shape"
      ],
      "execution_count": 81,
      "outputs": [
        {
          "output_type": "execute_result",
          "data": {
            "text/plain": [
              "(4601,)"
            ]
          },
          "metadata": {
            "tags": []
          },
          "execution_count": 81
        }
      ]
    },
    {
      "cell_type": "markdown",
      "metadata": {
        "id": "7p-C7D3rQ6Tq"
      },
      "source": [
        "# Split data into traning and testing set"
      ]
    },
    {
      "cell_type": "code",
      "metadata": {
        "id": "Xmld1iyNNPBF",
        "outputId": "9f3ac3ac-2d2a-46e1-86a1-32e84beaf099",
        "colab": {
          "base_uri": "https://localhost:8080/",
          "height": 34
        }
      },
      "source": [
        "from sklearn.model_selection  import train_test_split  \n",
        "X_train,X_test,y_train,y_test = train_test_split(X,y, test_size = 0.33,stratify=y,shuffle = True, random_state = 42)\n",
        "train_test_split(y,shuffle = True)\n",
        "print(X_train.shape)"
      ],
      "execution_count": 82,
      "outputs": [
        {
          "output_type": "stream",
          "text": [
            "(3082, 57)\n"
          ],
          "name": "stdout"
        }
      ]
    },
    {
      "cell_type": "code",
      "metadata": {
        "id": "fJhr6ey18DvH"
      },
      "source": [
        ""
      ],
      "execution_count": 82,
      "outputs": []
    },
    {
      "cell_type": "code",
      "metadata": {
        "id": "v5XhGviLxMKa",
        "outputId": "51fcae22-8e78-4f97-e7ec-4413ccf1e32a",
        "colab": {
          "base_uri": "https://localhost:8080/",
          "height": 252
        }
      },
      "source": [
        "print(X_train)"
      ],
      "execution_count": 83,
      "outputs": [
        {
          "output_type": "stream",
          "text": [
            "      word_freq_make  ...   capital_run_length_total\n",
            "316             0.00  ...                         87\n",
            "2703            0.00  ...                         37\n",
            "947             0.00  ...                         71\n",
            "3015            0.00  ...                         64\n",
            "3041            0.00  ...                        227\n",
            "...              ...  ...                        ...\n",
            "623             0.19  ...                        870\n",
            "1861            0.00  ...                         14\n",
            "2366            0.00  ...                         13\n",
            "229             0.00  ...                        156\n",
            "3114            0.00  ...                         65\n",
            "\n",
            "[3082 rows x 57 columns]\n"
          ],
          "name": "stdout"
        }
      ]
    },
    {
      "cell_type": "code",
      "metadata": {
        "id": "glLJ2qGNxQmj",
        "outputId": "e81b142f-7aed-42c4-84a8-cef685efcced",
        "colab": {
          "base_uri": "https://localhost:8080/",
          "height": 252
        }
      },
      "source": [
        "print(X_test)"
      ],
      "execution_count": 84,
      "outputs": [
        {
          "output_type": "stream",
          "text": [
            "      word_freq_make  ...   capital_run_length_total\n",
            "1534            0.15  ...                        801\n",
            "3474            0.00  ...                         11\n",
            "3107            0.00  ...                          9\n",
            "3118            0.00  ...                         49\n",
            "1911            0.00  ...                        185\n",
            "...              ...  ...                        ...\n",
            "3661            0.00  ...                          5\n",
            "3736            0.00  ...                         43\n",
            "2354            0.00  ...                         53\n",
            "1609            0.00  ...                        208\n",
            "2014            0.00  ...                       1506\n",
            "\n",
            "[1519 rows x 57 columns]\n"
          ],
          "name": "stdout"
        }
      ]
    },
    {
      "cell_type": "code",
      "metadata": {
        "id": "0I8qTIemN1XF",
        "outputId": "c4574f53-e3be-47be-cf05-b08ad3757e94",
        "colab": {
          "base_uri": "https://localhost:8080/",
          "height": 218
        }
      },
      "source": [
        "print(y_train)"
      ],
      "execution_count": 85,
      "outputs": [
        {
          "output_type": "stream",
          "text": [
            "316     1\n",
            "2703    0\n",
            "947     1\n",
            "3015    0\n",
            "3041    0\n",
            "       ..\n",
            "623     1\n",
            "1861    0\n",
            "2366    0\n",
            "229     1\n",
            "3114    0\n",
            "Name:  spam, Length: 3082, dtype: int64\n"
          ],
          "name": "stdout"
        }
      ]
    },
    {
      "cell_type": "code",
      "metadata": {
        "id": "WHnZO_peOSEN",
        "outputId": "d15a0489-3522-4437-b8d4-1ae032a9e5f7",
        "colab": {
          "base_uri": "https://localhost:8080/",
          "height": 218
        }
      },
      "source": [
        "print(y_test)"
      ],
      "execution_count": 86,
      "outputs": [
        {
          "output_type": "stream",
          "text": [
            "1534    1\n",
            "3474    0\n",
            "3107    0\n",
            "3118    0\n",
            "1911    0\n",
            "       ..\n",
            "3661    0\n",
            "3736    0\n",
            "2354    0\n",
            "1609    1\n",
            "2014    0\n",
            "Name:  spam, Length: 1519, dtype: int64\n"
          ],
          "name": "stdout"
        }
      ]
    },
    {
      "cell_type": "code",
      "metadata": {
        "id": "YD2V8YCKOUrT",
        "outputId": "29f604f6-e0f9-4509-9789-3f235c9bdb1b",
        "colab": {
          "base_uri": "https://localhost:8080/",
          "height": 34
        }
      },
      "source": [
        "print(y_test.shape)"
      ],
      "execution_count": 87,
      "outputs": [
        {
          "output_type": "stream",
          "text": [
            "(1519,)\n"
          ],
          "name": "stdout"
        }
      ]
    },
    {
      "cell_type": "markdown",
      "metadata": {
        "id": "Y3zOXWzNNGkk"
      },
      "source": [
        "# Feature selection : Removing features with low variance "
      ]
    },
    {
      "cell_type": "code",
      "metadata": {
        "id": "iaSKTV8-5NYp"
      },
      "source": [
        "from sklearn.feature_selection import VarianceThreshold, RFE, SelectFromModel, SelectKBest, f_classif, chi2, mutual_info_classif"
      ],
      "execution_count": 88,
      "outputs": []
    },
    {
      "cell_type": "markdown",
      "metadata": {
        "id": "WjL8eDxf5flW"
      },
      "source": [
        "##1 : Removing features with low variance "
      ]
    },
    {
      "cell_type": "code",
      "metadata": {
        "id": "Qt5v0j8F5fHZ",
        "outputId": "6f2c0a2a-8fe3-41f0-ad90-2d64f1f10ff7",
        "colab": {
          "base_uri": "https://localhost:8080/",
          "height": 34
        }
      },
      "source": [
        "set_variance_threshold = VarianceThreshold()\n",
        "# New X_train \n",
        "X_train_remove_variance = set_variance_threshold .fit_transform(X_train)\n",
        "X_train_remove_variance.shape\n",
        "\n",
        "# I will not remove any features from this method"
      ],
      "execution_count": 89,
      "outputs": [
        {
          "output_type": "execute_result",
          "data": {
            "text/plain": [
              "(3082, 57)"
            ]
          },
          "metadata": {
            "tags": []
          },
          "execution_count": 89
        }
      ]
    },
    {
      "cell_type": "markdown",
      "metadata": {
        "id": "0hTKsb5W9L1w"
      },
      "source": [
        "## Removing unvariate feature"
      ]
    },
    {
      "cell_type": "code",
      "metadata": {
        "id": "WhQ-UWdI9Q5B",
        "outputId": "4e402b53-85ab-4ae1-cddb-6aff2cfc5f1c",
        "colab": {
          "base_uri": "https://localhost:8080/",
          "height": 134
        }
      },
      "source": [
        "set_chi2 = SelectKBest(chi2, k = 4 ) # select 4 features \n",
        "# X_train new \n",
        "X_train_chi2 = set_chi2.fit_transform(X_train,y_train)\n",
        "print(set_chi2.get_support())\n",
        "print(set_chi2.get_params())\n",
        "# summarize score \n",
        "# the last three elements in the array are true, which means the last three features was selected by this method\n",
        "print(X_train_chi2.shape)"
      ],
      "execution_count": 90,
      "outputs": [
        {
          "output_type": "stream",
          "text": [
            "[False False False False False False False False False False False False\n",
            " False False False False False False False False False False False False\n",
            " False False  True False False False False False False False False False\n",
            " False False False False False False False False False False False False\n",
            " False False False False False False  True  True  True]\n",
            "{'k': 4, 'score_func': <function chi2 at 0x7f5d67199158>}\n",
            "(3082, 4)\n"
          ],
          "name": "stdout"
        }
      ]
    },
    {
      "cell_type": "code",
      "metadata": {
        "id": "WNUd0m7UGtWX",
        "outputId": "7b7ccc10-8ea2-4aa7-84b1-caff6ac53fbf",
        "colab": {
          "base_uri": "https://localhost:8080/",
          "height": 134
        }
      },
      "source": [
        "# 2 use f test \n",
        "\n",
        "set_f = SelectKBest(f_classif,k = 4)\n",
        "# New x_train\n",
        "X_train_f = set_f.fit_transform(X_train,y_train)\n",
        "print(set_f.get_support())\n",
        "print(set_f.get_params())\n",
        "print(X_train_f.shape)"
      ],
      "execution_count": 91,
      "outputs": [
        {
          "output_type": "stream",
          "text": [
            "[False False False False False False  True False False False False False\n",
            " False False False False False False False False  True False  True False\n",
            " False False False False False False False False False False False False\n",
            " False False False False False False False False False False False False\n",
            " False False False False  True False False False False]\n",
            "{'k': 4, 'score_func': <function f_classif at 0x7f5d67199048>}\n",
            "(3082, 4)\n"
          ],
          "name": "stdout"
        }
      ]
    },
    {
      "cell_type": "code",
      "metadata": {
        "id": "ZuEZuUKBHr7w",
        "outputId": "d402f9c8-2d2a-4418-e25b-d5c1d01b149f",
        "colab": {
          "base_uri": "https://localhost:8080/",
          "height": 134
        }
      },
      "source": [
        "sel_mutual = SelectKBest(mutual_info_classif, k=4)\n",
        "# New train data \n",
        "X_train_mutual = sel_mutual.fit_transform(X_train, y_train)\n",
        "print(sel_mutual.get_support())\n",
        "print(sel_mutual.get_params())\n",
        "print(X_train_mutual.shape)"
      ],
      "execution_count": 92,
      "outputs": [
        {
          "output_type": "stream",
          "text": [
            "[False False False False False False False False False False False False\n",
            " False False False False False False False False False False False False\n",
            " False False False False False False False False False False False False\n",
            " False False False False False False False False False False False False\n",
            " False False False  True  True False  True  True False]\n",
            "{'k': 4, 'score_func': <function mutual_info_classif at 0x7f5d6712b400>}\n",
            "(3082, 4)\n"
          ],
          "name": "stdout"
        }
      ]
    },
    {
      "cell_type": "markdown",
      "metadata": {
        "id": "Xe9uV1cmlQiz"
      },
      "source": [
        "## Recursive Feature Elimination"
      ]
    },
    {
      "cell_type": "markdown",
      "metadata": {
        "id": "SdPPXSj1BQX5"
      },
      "source": [
        "##Feature extraction"
      ]
    },
    {
      "cell_type": "code",
      "metadata": {
        "id": "saFH0RSklVm7",
        "outputId": "d8907ac5-6f36-47b4-8d3f-a947134f33df",
        "colab": {
          "base_uri": "https://localhost:8080/",
          "height": 168
        }
      },
      "source": [
        "model = LogisticRegression(solver='lbfgs',class_weight='balanced',max_iter=10000)\n",
        "rfe = RFE(model,3)\n",
        "fit = rfe.fit(X_train,y_train)\n",
        "print(\"Number of features : %d\" % (fit.n_features_))\n",
        "print(\"selected features :%s\"% (fit.support_))\n",
        "print(\"Feature Ranking : %s\" % (fit.ranking_))\n",
        "# as you can see that RFF choose the top 3 features\n",
        "# word_freg_remove, char_freg_dollor, word_freg_hpl"
      ],
      "execution_count": 93,
      "outputs": [
        {
          "output_type": "stream",
          "text": [
            "Number of features : 3\n",
            "selected features :[False False False False False False  True False False False False False\n",
            " False False False False False False False False False False False False\n",
            " False False  True False False False False False False False False False\n",
            " False False False False False False False False False False False False\n",
            " False False False False  True False False False False]\n",
            "Feature Ranking : [37 44 36 18 21 17  1 25 14 32 52 45 51 54  7 15 13 42 50  9 46 47  2 29\n",
            " 10  3  1 35  4 48 38 49 23 34 19 30 41 26 27 39  8  6 16 12 24  5 28 20\n",
            " 22 43 33 31  1 11 40 53 55]\n"
          ],
          "name": "stdout"
        }
      ]
    },
    {
      "cell_type": "markdown",
      "metadata": {
        "id": "TekcYnloJnT7"
      },
      "source": [
        "## Principal component analysis"
      ]
    },
    {
      "cell_type": "code",
      "metadata": {
        "id": "F2sAvEvtKk50",
        "outputId": "0d608c51-5c32-4643-d515-1ad8aeb1ca1f",
        "colab": {
          "base_uri": "https://localhost:8080/",
          "height": 790
        }
      },
      "source": [
        "# Feature extraction \n",
        "\n",
        "pca = PCA(n_components=3)\n",
        "\n",
        "fit = pca.fit(X_train)\n",
        "\n",
        "print(\"Explained Variance :%s\" % (fit.explained_variance_ratio_))\n",
        "print(fit.components_)"
      ],
      "execution_count": 94,
      "outputs": [
        {
          "output_type": "stream",
          "text": [
            "Explained Variance :[0.90377592 0.0935616  0.00257124]\n",
            "[[ 4.76126393e-05 -4.83896793e-05  7.58548761e-05  7.19250324e-05\n",
            "   1.94538944e-05  4.38895537e-05 -1.20627595e-06  3.19392530e-05\n",
            "   1.22302227e-04  1.06226358e-04  3.98977946e-05  4.14469416e-05\n",
            "   5.01736115e-05  9.17663658e-05  7.56163895e-05  1.64299246e-05\n",
            "   5.07152679e-05  4.74933021e-05 -1.64743768e-07  7.80708401e-05\n",
            "   1.48383919e-04  1.26037316e-04  9.53755311e-05  5.86552494e-05\n",
            "  -1.19984751e-04 -1.06805475e-04 -5.52985815e-04 -7.07460945e-05\n",
            "  -6.21070203e-05 -4.98255978e-05 -3.40461487e-05 -2.81381431e-05\n",
            "   6.08688112e-06 -2.71835135e-05 -4.68194342e-05 -3.64350091e-05\n",
            "   2.31999587e-06 -3.28237371e-06 -3.22078107e-05 -1.96908152e-05\n",
            "  -1.31344272e-05 -7.62134515e-05 -1.11895152e-05 -4.41759840e-05\n",
            "  -1.70839090e-04 -6.69061186e-05  1.82569665e-06 -9.27807568e-06\n",
            "   2.28404061e-05  9.74379518e-05 -7.36579342e-07  6.06089780e-05\n",
            "   9.33408485e-05  4.13900023e-05  1.33149219e-02  2.08777999e-01\n",
            "   9.77872137e-01]\n",
            " [ 8.41942759e-06  1.00351394e-04  1.75141417e-04  2.01276527e-05\n",
            "   1.87883663e-04  5.45021179e-05  1.41734884e-04  1.74949931e-05\n",
            "   5.09645937e-05  1.46166623e-04  1.65966046e-05  1.79718104e-05\n",
            "  -4.63568276e-05 -9.18288799e-05  1.57780399e-04  6.03032251e-05\n",
            "   5.01871033e-05  1.22777685e-04 -1.31845528e-05  1.52046482e-04\n",
            "   3.03472379e-04 -1.65293629e-04  9.89314978e-06 -2.78655376e-05\n",
            "  -2.51078491e-04 -6.49702969e-05  9.78985631e-05  8.82951246e-06\n",
            "   2.07789921e-06 -2.67602804e-06  2.18560798e-06  2.50843504e-06\n",
            "  -1.06493555e-04  8.24947572e-06 -8.34093735e-06 -2.17343759e-05\n",
            "  -8.48142844e-05 -3.20633265e-06 -1.29822020e-06  1.40994302e-05\n",
            "  -9.93471224e-06 -2.55822139e-06  5.46670026e-06 -1.68541760e-06\n",
            "   3.65865779e-05 -2.74663841e-05 -7.16857183e-06 -1.27074395e-05\n",
            "   3.23949339e-05  6.60480936e-04 -6.81975175e-06  2.84252856e-04\n",
            "   1.08911808e-04  1.24685558e-04  8.66987786e-02  9.74034444e-01\n",
            "  -2.09139317e-01]\n",
            " [ 2.74315816e-04  2.13640927e-05  9.35999903e-04 -1.37298385e-04\n",
            "   6.33425747e-04 -4.91423388e-04  1.35110544e-04  1.44656583e-06\n",
            "   4.49753871e-04  6.86382189e-04  1.11708092e-05 -6.40923581e-04\n",
            "  -2.60785569e-04 -1.51029460e-04 -7.48004435e-04 -3.16703429e-04\n",
            "   2.04208440e-04 -8.00261029e-04 -2.15297984e-03  4.68461792e-04\n",
            "   5.89223870e-05  5.77687276e-04 -4.52545393e-04 -1.06027369e-04\n",
            "   2.76305118e-04 -1.53617435e-04 -8.43882288e-04 -1.33924993e-05\n",
            "  -5.73427597e-05 -6.46825968e-05 -2.85836030e-05 -1.19855282e-05\n",
            "  -3.22291109e-05  9.56093342e-05 -6.32921298e-05 -5.80553211e-05\n",
            "   1.46690399e-05 -1.33941889e-05 -6.82071583e-05 -4.54568699e-05\n",
            "  -3.71887311e-06 -1.63674937e-04 -1.01523491e-04 -9.12331012e-05\n",
            "  -3.41716035e-04 -1.42105310e-04 -2.05835619e-06 -2.05482805e-06\n",
            "  -1.67750863e-04 -2.02888514e-03 -9.92043348e-06  3.73972174e-04\n",
            "   2.57295301e-05 -3.80146154e-04  9.96138206e-01 -8.75633137e-02\n",
            "   5.13084963e-03]]\n"
          ],
          "name": "stdout"
        }
      ]
    },
    {
      "cell_type": "markdown",
      "metadata": {
        "id": "a-ohB1zrbTKa"
      },
      "source": [
        "## Feature importances "
      ]
    },
    {
      "cell_type": "code",
      "metadata": {
        "id": "yBWvImopbW49",
        "outputId": "1667efe0-e2b0-435d-b1f7-fd22d9b93521",
        "colab": {
          "base_uri": "https://localhost:8080/",
          "height": 185
        }
      },
      "source": [
        "Extra = ExtraTreesClassifier()\n",
        "Extra.fit(X_train,y_train)\n",
        "print(Extra.feature_importances_)\n",
        "# As you can see from the array, I will list some important features \n",
        "# word_freg_remove, word_freg_free, word_freg_your"
      ],
      "execution_count": 95,
      "outputs": [
        {
          "output_type": "stream",
          "text": [
            "[0.00949237 0.00979181 0.01601001 0.00205534 0.03493615 0.01338952\n",
            " 0.05380177 0.01885998 0.0144166  0.01426198 0.01915101 0.01429207\n",
            " 0.00653081 0.00402525 0.01432469 0.04198207 0.02258639 0.01536572\n",
            " 0.03370186 0.00990367 0.06995643 0.00643588 0.05145515 0.03409931\n",
            " 0.03883338 0.01924155 0.03033589 0.00907727 0.00574326 0.00720984\n",
            " 0.00382816 0.00232604 0.00561705 0.00268913 0.00523968 0.00708483\n",
            " 0.01590179 0.00136721 0.00631548 0.00318152 0.00237163 0.01143261\n",
            " 0.00478447 0.0068303  0.01563597 0.01927668 0.00077192 0.00241193\n",
            " 0.00744845 0.01390021 0.0043153  0.04814493 0.05501854 0.0052077\n",
            " 0.03205417 0.04037527 0.03520198]\n"
          ],
          "name": "stdout"
        }
      ]
    },
    {
      "cell_type": "markdown",
      "metadata": {
        "id": "xOhsEDeNP525"
      },
      "source": [
        "#Modeling and Compare machine learning algorithms "
      ]
    },
    {
      "cell_type": "markdown",
      "metadata": {
        "id": "W86xRWki13uM"
      },
      "source": [
        "## Choose the best althogrithm for training and testing "
      ]
    },
    {
      "cell_type": "markdown",
      "metadata": {
        "id": "ndAxhw18vdha"
      },
      "source": [
        "# 1  LogisticRegression "
      ]
    },
    {
      "cell_type": "markdown",
      "metadata": {
        "id": "U3vMOpyl1Rur"
      },
      "source": [
        "## Raw data model "
      ]
    },
    {
      "cell_type": "code",
      "metadata": {
        "id": "VhMtTS98w8Bu",
        "outputId": "512b2b2a-81e8-443a-f77a-5518f01000c3",
        "colab": {
          "base_uri": "https://localhost:8080/",
          "height": 121
        }
      },
      "source": [
        "model = LogisticRegression(solver='lbfgs',class_weight='balanced',max_iter=10000)\n",
        "model.fit(X_train,y_train)\n",
        "# train the data into n- k part data\n",
        "kfold = KFold(n_splits= 3,random_state = 42)\n",
        "result = cross_val_score(model,X_train,y_train,cv= kfold)\n",
        "print(\"Accuracy \",result.mean()*100.0, result.std()*100.0)\n",
        "predict = model.predict(X_test)\n",
        "#print(confusion_matrix(y_test,predict))\n",
        "#print(classification_report(y_test,predict))\n",
        "print(predict)\n",
        "print(\"Metrics Accuracy\",metrics.accuracy_score(y_test,predict)*100.0)"
      ],
      "execution_count": 132,
      "outputs": [
        {
          "output_type": "stream",
          "text": [
            "/usr/local/lib/python3.6/dist-packages/sklearn/model_selection/_split.py:296: FutureWarning: Setting a random_state has no effect since shuffle is False. This will raise an error in 0.24. You should leave random_state to its default (None), or set shuffle=True.\n",
            "  FutureWarning\n"
          ],
          "name": "stderr"
        },
        {
          "output_type": "stream",
          "text": [
            "Accuracy  92.63434606733627 0.7241125494507812\n",
            "[1 0 0 ... 0 1 1]\n",
            "Metrics Accuracy 92.89005924950625\n"
          ],
          "name": "stdout"
        }
      ]
    },
    {
      "cell_type": "markdown",
      "metadata": {
        "id": "J9pQIuJC1Veu"
      },
      "source": [
        "## Model with chiquare2 "
      ]
    },
    {
      "cell_type": "code",
      "metadata": {
        "id": "3dQ1EDXtovl-",
        "outputId": "2f155db6-52cc-4299-b3ea-566bef80f094",
        "colab": {
          "base_uri": "https://localhost:8080/",
          "height": 306
        }
      },
      "source": [
        "model_1 = LogisticRegression(solver='lbfgs',class_weight='balanced',max_iter=10000)\n",
        "model_1.fit(X_train_chi2,y_train)\n",
        "kfold = KFold(n_splits = 3,random_state = 42)\n",
        "X_test_chi2 = set_chi2.transform(X_test)\n",
        "result_1 = cross_val_score(model_1,X_train_chi2,y_train,cv = kfold)\n",
        "predict_1 = model_1.predict(X_test_chi2)\n",
        "print(\"Accuracy\",result_1.mean()*100.0,result.std()*100.0)\n",
        "print(confusion_matrix(y_test,predict_1))\n",
        "print(classification_report(y_test,predict_1))\n",
        "# Model with chiquare2 is not fit in this case \n",
        "print(predict_1)\n",
        "print(\"Accuracy metrics\",metrics.accuracy_score(y_test,predict_1)*100.0)"
      ],
      "execution_count": 134,
      "outputs": [
        {
          "output_type": "stream",
          "text": [
            "Accuracy 77.51374370593206 0.7241125494507812\n",
            "[[749 171]\n",
            " [199 400]]\n",
            "              precision    recall  f1-score   support\n",
            "\n",
            "           0       0.79      0.81      0.80       920\n",
            "           1       0.70      0.67      0.68       599\n",
            "\n",
            "    accuracy                           0.76      1519\n",
            "   macro avg       0.75      0.74      0.74      1519\n",
            "weighted avg       0.75      0.76      0.76      1519\n",
            "\n",
            "[1 0 0 ... 0 1 1]\n",
            "Accuracy metrics 75.64186965108625\n"
          ],
          "name": "stdout"
        },
        {
          "output_type": "stream",
          "text": [
            "/usr/local/lib/python3.6/dist-packages/sklearn/model_selection/_split.py:296: FutureWarning: Setting a random_state has no effect since shuffle is False. This will raise an error in 0.24. You should leave random_state to its default (None), or set shuffle=True.\n",
            "  FutureWarning\n"
          ],
          "name": "stderr"
        }
      ]
    },
    {
      "cell_type": "code",
      "metadata": {
        "id": "qgRMFerWqGhK"
      },
      "source": [
        ""
      ],
      "execution_count": 97,
      "outputs": []
    },
    {
      "cell_type": "markdown",
      "metadata": {
        "id": "8WSjQelX249-"
      },
      "source": [
        "## Model with remove variance"
      ]
    },
    {
      "cell_type": "code",
      "metadata": {
        "id": "pFMAiYggx0Tt",
        "outputId": "abacb7e0-c379-4afa-b418-0a70bfdc8bbb",
        "colab": {
          "base_uri": "https://localhost:8080/",
          "height": 104
        }
      },
      "source": [
        "model_3 = LogisticRegression(solver='lbfgs',class_weight='balanced',max_iter=10000)\n",
        "model_3.fit(X_train_remove_variance,y_train)\n",
        "# transform x test\n",
        "X_test_remove_variance = set_variance_threshold.transform(X_test)\n",
        "kfold = KFold(n_splits = 3,random_state = 42)\n",
        "result_2 = cross_val_score(model_3,X_train_remove_variance,y_train,cv = kfold)\n",
        "predict_2 = model_3.predict(X_train_remove_variance)\n",
        "#print(X_test.shape)\n",
        "#print(X_test_remove_variance.shape)\n",
        "print(\"Accuracy\",result_2.mean()*100.0,result_2.std()*100.0)\n",
        "print(\"Predict Result\",predict_2)"
      ],
      "execution_count": 118,
      "outputs": [
        {
          "output_type": "stream",
          "text": [
            "/usr/local/lib/python3.6/dist-packages/sklearn/model_selection/_split.py:296: FutureWarning: Setting a random_state has no effect since shuffle is False. This will raise an error in 0.24. You should leave random_state to its default (None), or set shuffle=True.\n",
            "  FutureWarning\n"
          ],
          "name": "stderr"
        },
        {
          "output_type": "stream",
          "text": [
            "Accuracy 92.63434606733627 0.7241125494507812\n",
            "Predict Result [1 0 1 ... 0 1 0]\n"
          ],
          "name": "stdout"
        }
      ]
    },
    {
      "cell_type": "markdown",
      "metadata": {
        "id": "2yVm-d0i5vx2"
      },
      "source": [
        "## Model with train_f"
      ]
    },
    {
      "cell_type": "code",
      "metadata": {
        "id": "g5sZ5YoW1Ib_",
        "outputId": "5cbda856-c8be-4a59-938f-79e40538f97f",
        "colab": {
          "base_uri": "https://localhost:8080/",
          "height": 306
        }
      },
      "source": [
        "model_4 = LogisticRegression(solver='lbfgs',class_weight='balanced',max_iter=10000)\n",
        "\n",
        "model_4.fit(X_train_f,y_train)\n",
        "\n",
        "X_test_f = set_f.transform(X_test)\n",
        "print(X_test_f.shape)\n",
        "\n",
        "kfold = KFold(n_splits = 3,random_state = 42)\n",
        "result_3 = cross_val_score(model_4,X_train_f,y_train, cv = kfold)\n",
        "predict_4 = model_4.predict(X_test_f)\n",
        "print(confusion_matrix(y_test,predict_4))\n",
        "print(classification_report(y_test,predict_4))\n",
        "print(predict_4)\n",
        "print(result_3.mean()*100.0)"
      ],
      "execution_count": 122,
      "outputs": [
        {
          "output_type": "stream",
          "text": [
            "(1519, 4)\n",
            "[[841  79]\n",
            " [183 416]]\n",
            "              precision    recall  f1-score   support\n",
            "\n",
            "           0       0.82      0.91      0.87       920\n",
            "           1       0.84      0.69      0.76       599\n",
            "\n",
            "    accuracy                           0.83      1519\n",
            "   macro avg       0.83      0.80      0.81      1519\n",
            "weighted avg       0.83      0.83      0.82      1519\n",
            "\n",
            "[1 0 0 ... 0 1 0]\n",
            "85.13864314608047\n"
          ],
          "name": "stdout"
        },
        {
          "output_type": "stream",
          "text": [
            "/usr/local/lib/python3.6/dist-packages/sklearn/model_selection/_split.py:296: FutureWarning: Setting a random_state has no effect since shuffle is False. This will raise an error in 0.24. You should leave random_state to its default (None), or set shuffle=True.\n",
            "  FutureWarning\n"
          ],
          "name": "stderr"
        }
      ]
    },
    {
      "cell_type": "code",
      "metadata": {
        "id": "2-BSfKkL1NKY"
      },
      "source": [
        ""
      ],
      "execution_count": 99,
      "outputs": []
    },
    {
      "cell_type": "code",
      "metadata": {
        "id": "6K0e2_T3H6Oc"
      },
      "source": [
        ""
      ],
      "execution_count": 118,
      "outputs": []
    },
    {
      "cell_type": "markdown",
      "metadata": {
        "id": "7sDiPVo7L_13"
      },
      "source": [
        "# Conclusion : After training and testing model on raw data and model by feature selection. I come to conclusion that the accuracy would 93% With logisticClassificaer algorithm"
      ]
    },
    {
      "cell_type": "markdown",
      "metadata": {
        "id": "FCfwso5_kjYA"
      },
      "source": [
        "#2 :  RandomForest"
      ]
    },
    {
      "cell_type": "markdown",
      "metadata": {
        "id": "J9YXOujNm5ZF"
      },
      "source": [
        "##1. Raw data "
      ]
    },
    {
      "cell_type": "code",
      "metadata": {
        "id": "fhbY6MJfk031",
        "outputId": "a142f790-d295-4541-f430-b5fdea46ba97",
        "colab": {
          "base_uri": "https://localhost:8080/",
          "height": 306
        }
      },
      "source": [
        "random = RandomForestClassifier()\n",
        "random.fit(X_train,y_train) \n",
        "kfold = KFold(n_splits = 3,random_state = 42)\n",
        "result_4 = cross_val_score(random,X_train,y_train,cv = kfold)\n",
        "predict_5 = random.predict(X_test)\n",
        "print(predict_5)\n",
        "print(confusion_matrix(y_test,predict_5))\n",
        "print(classification_report(y_test,predict_5 ))\n",
        "print(\"Accuracy\",result_4.mean()*100.0)\n",
        "print(\"Metrics Accuracy\",metrics.accuracy_score(y_test,predict_5)*100.0)"
      ],
      "execution_count": 130,
      "outputs": [
        {
          "output_type": "stream",
          "text": [
            "/usr/local/lib/python3.6/dist-packages/sklearn/model_selection/_split.py:296: FutureWarning: Setting a random_state has no effect since shuffle is False. This will raise an error in 0.24. You should leave random_state to its default (None), or set shuffle=True.\n",
            "  FutureWarning\n"
          ],
          "name": "stderr"
        },
        {
          "output_type": "stream",
          "text": [
            "[1 0 0 ... 0 1 0]\n",
            "[[894  26]\n",
            " [ 48 551]]\n",
            "              precision    recall  f1-score   support\n",
            "\n",
            "           0       0.95      0.97      0.96       920\n",
            "           1       0.95      0.92      0.94       599\n",
            "\n",
            "    accuracy                           0.95      1519\n",
            "   macro avg       0.95      0.95      0.95      1519\n",
            "weighted avg       0.95      0.95      0.95      1519\n",
            "\n",
            "Accuracy 94.7432613848907\n",
            "Metrics Accuracy 95.12837393021725\n"
          ],
          "name": "stdout"
        }
      ]
    },
    {
      "cell_type": "markdown",
      "metadata": {
        "id": "6xqaneMDq6dx"
      },
      "source": [
        "## 1 : Chiquare"
      ]
    },
    {
      "cell_type": "code",
      "metadata": {
        "id": "XO78-i8vm3YB",
        "outputId": "619957ef-62c8-44e7-9e7b-db14096011b7",
        "colab": {
          "base_uri": "https://localhost:8080/",
          "height": 306
        }
      },
      "source": [
        "random_1 = RandomForestClassifier(max_depth= 2 , random_state=0)\n",
        "\n",
        "random_1.fit(X_train_chi2,y_train)\n",
        "\n",
        "kfold = KFold(n_splits = 3,random_state = 42)\n",
        "\n",
        "result_5 = cross_val_score(random_1,X_train_chi2,y_train,cv = kfold)\n",
        "\n",
        "X_test_chi2_1 = set_chi2.transform(X_test)\n",
        "print(X_test_chi2_1.shape)\n",
        "\n",
        "predict_5 = random_1.predict(X_test_chi2_1)\n",
        "\n",
        "print(confusion_matrix(y_test,predict_5))\n",
        "print(classification_report(y_test,predict_5)) \n",
        "\n",
        "print(\"Metrics accuracy\",metrics.accuracy_score(y_test,predict_5) )\n",
        "print(result_5.mean()*100.0)"
      ],
      "execution_count": 153,
      "outputs": [
        {
          "output_type": "stream",
          "text": [
            "/usr/local/lib/python3.6/dist-packages/sklearn/model_selection/_split.py:296: FutureWarning: Setting a random_state has no effect since shuffle is False. This will raise an error in 0.24. You should leave random_state to its default (None), or set shuffle=True.\n",
            "  FutureWarning\n"
          ],
          "name": "stderr"
        },
        {
          "output_type": "stream",
          "text": [
            "(1519, 4)\n",
            "[[765 155]\n",
            " [195 404]]\n",
            "              precision    recall  f1-score   support\n",
            "\n",
            "           0       0.80      0.83      0.81       920\n",
            "           1       0.72      0.67      0.70       599\n",
            "\n",
            "    accuracy                           0.77      1519\n",
            "   macro avg       0.76      0.75      0.76      1519\n",
            "weighted avg       0.77      0.77      0.77      1519\n",
            "\n",
            "Metrics accuracy 0.7695852534562212\n",
            "78.81180247456166\n"
          ],
          "name": "stdout"
        }
      ]
    },
    {
      "cell_type": "markdown",
      "metadata": {
        "id": "P1MZhHYbzm1r"
      },
      "source": [
        "## 3 : Remove variance \n"
      ]
    },
    {
      "cell_type": "code",
      "metadata": {
        "id": "dCj3h6yrt5KB",
        "outputId": "bb6c58e7-3602-46fa-ec48-dda8a0f99c18",
        "colab": {
          "base_uri": "https://localhost:8080/",
          "height": 306
        }
      },
      "source": [
        "random_2 = RandomForestClassifier(max_depth = 2 , random_state= 0)\n",
        "\n",
        "random_2.fit(X_train_remove_variance,y_train)\n",
        "\n",
        "kfold = KFold(n_splits = 3,random_state = 42)\n",
        "result_6 = cross_val_score(random_2,X_train_remove_variance,y_train,cv = kfold)\n",
        "X_test_remove_variance = set_variance_threshold.transform(X_test)\n",
        "predict_6 = random_2.predict(X_test_remove_variance)\n",
        "print(confusion_matrix(y_test,predict_6))\n",
        "print(classification_report(y_test,predict_6))\n",
        "print(predict_6)\n",
        "print(result_6.mean()*100.0)\n",
        "print(\"Metrics Accuracy\",metrics.accuracy_score(y_test,predict_6)*100.0)"
      ],
      "execution_count": 163,
      "outputs": [
        {
          "output_type": "stream",
          "text": [
            "/usr/local/lib/python3.6/dist-packages/sklearn/model_selection/_split.py:296: FutureWarning: Setting a random_state has no effect since shuffle is False. This will raise an error in 0.24. You should leave random_state to its default (None), or set shuffle=True.\n",
            "  FutureWarning\n"
          ],
          "name": "stderr"
        },
        {
          "output_type": "stream",
          "text": [
            "[[900  20]\n",
            " [154 445]]\n",
            "              precision    recall  f1-score   support\n",
            "\n",
            "           0       0.85      0.98      0.91       920\n",
            "           1       0.96      0.74      0.84       599\n",
            "\n",
            "    accuracy                           0.89      1519\n",
            "   macro avg       0.91      0.86      0.87      1519\n",
            "weighted avg       0.89      0.89      0.88      1519\n",
            "\n",
            "[1 0 0 ... 0 1 0]\n",
            "88.48095582691457\n",
            "Metrics Accuracy 88.54509545753785\n"
          ],
          "name": "stdout"
        }
      ]
    },
    {
      "cell_type": "markdown",
      "metadata": {
        "id": "pHLncC4R3Yha"
      },
      "source": [
        "## 4 : Random_f "
      ]
    },
    {
      "cell_type": "code",
      "metadata": {
        "id": "ZJwJ_oxr2zol",
        "outputId": "cfb924bb-6fee-47e0-d9ac-354087e5eaac",
        "colab": {
          "base_uri": "https://localhost:8080/",
          "height": 151
        }
      },
      "source": [
        "random_3 = RandomForestClassifier(max_depth = 2 , random_state =0)\n",
        "random_3.fit(X_train_f, y_train)"
      ],
      "execution_count": 108,
      "outputs": [
        {
          "output_type": "execute_result",
          "data": {
            "text/plain": [
              "RandomForestClassifier(bootstrap=True, ccp_alpha=0.0, class_weight=None,\n",
              "                       criterion='gini', max_depth=2, max_features='auto',\n",
              "                       max_leaf_nodes=None, max_samples=None,\n",
              "                       min_impurity_decrease=0.0, min_impurity_split=None,\n",
              "                       min_samples_leaf=1, min_samples_split=2,\n",
              "                       min_weight_fraction_leaf=0.0, n_estimators=100,\n",
              "                       n_jobs=None, oob_score=False, random_state=0, verbose=0,\n",
              "                       warm_start=False)"
            ]
          },
          "metadata": {
            "tags": []
          },
          "execution_count": 108
        }
      ]
    },
    {
      "cell_type": "code",
      "metadata": {
        "id": "nPk-hyuP3xPV",
        "outputId": "0a74605c-82b0-4468-a4d1-1d694b81b9dd",
        "colab": {
          "base_uri": "https://localhost:8080/",
          "height": 218
        }
      },
      "source": [
        "X_test_f = set_f.transform(X_test)\n",
        "\n",
        "predict_6 = random_3.predict(X_test_f)\n",
        "\n",
        "print(predict_6)\n",
        "print(confusion_matrix(y_test,predict_6) )\n",
        "print(classification_report(y_test,predict_6))"
      ],
      "execution_count": 109,
      "outputs": [
        {
          "output_type": "stream",
          "text": [
            "[1 0 0 ... 0 1 0]\n",
            "[[860  60]\n",
            " [173 426]]\n",
            "              precision    recall  f1-score   support\n",
            "\n",
            "           0       0.83      0.93      0.88       920\n",
            "           1       0.88      0.71      0.79       599\n",
            "\n",
            "    accuracy                           0.85      1519\n",
            "   macro avg       0.85      0.82      0.83      1519\n",
            "weighted avg       0.85      0.85      0.84      1519\n",
            "\n"
          ],
          "name": "stdout"
        }
      ]
    },
    {
      "cell_type": "markdown",
      "metadata": {
        "id": "ivpdfZ5T8FN3"
      },
      "source": [
        "# 3 : Decision_Tree"
      ]
    },
    {
      "cell_type": "markdown",
      "metadata": {
        "id": "hw8LGx408ZXE"
      },
      "source": [
        "## 1 . Raw Data "
      ]
    },
    {
      "cell_type": "code",
      "metadata": {
        "id": "NCok6P798K4M",
        "outputId": "b30edaab-5c63-48d7-8cab-721fe261807a",
        "colab": {
          "base_uri": "https://localhost:8080/",
          "height": 218
        }
      },
      "source": [
        "Decision = DecisionTreeClassifier()\n",
        "Decision.fit(X_train,y_train)\n",
        "predict = Decision.predict(X_test)\n",
        "print(confusion_matrix(y_test,predict))\n",
        "print(classification_report(y_test,predict))\n",
        "print(predict)"
      ],
      "execution_count": 110,
      "outputs": [
        {
          "output_type": "stream",
          "text": [
            "[[836  84]\n",
            " [ 69 530]]\n",
            "              precision    recall  f1-score   support\n",
            "\n",
            "           0       0.92      0.91      0.92       920\n",
            "           1       0.86      0.88      0.87       599\n",
            "\n",
            "    accuracy                           0.90      1519\n",
            "   macro avg       0.89      0.90      0.90      1519\n",
            "weighted avg       0.90      0.90      0.90      1519\n",
            "\n",
            "[1 0 0 ... 0 1 0]\n"
          ],
          "name": "stdout"
        }
      ]
    },
    {
      "cell_type": "markdown",
      "metadata": {
        "id": "Te1EltzF94IU"
      },
      "source": [
        "## 2 : Chiquare"
      ]
    },
    {
      "cell_type": "code",
      "metadata": {
        "id": "s5tTO2KL8S-o",
        "outputId": "73713c5f-981c-4698-a123-e4c0c066dddd",
        "colab": {
          "base_uri": "https://localhost:8080/",
          "height": 218
        }
      },
      "source": [
        "Decision_1 = DecisionTreeClassifier( )\n",
        "\n",
        "Decision_1.fit(X_train_chi2,y_train) \n",
        "# New train data\n",
        "X_test_chi2 = set_chi2.transform(X_test)\n",
        "\n",
        "predict_7 = Decision_1.predict(X_test_chi2) \n",
        "\n",
        "print(predict_7)\n",
        "print(confusion_matrix(y_test,predict_7))\n",
        "print(classification_report(y_test,predict_7))"
      ],
      "execution_count": 111,
      "outputs": [
        {
          "output_type": "stream",
          "text": [
            "[1 0 0 ... 0 0 0]\n",
            "[[785 135]\n",
            " [146 453]]\n",
            "              precision    recall  f1-score   support\n",
            "\n",
            "           0       0.84      0.85      0.85       920\n",
            "           1       0.77      0.76      0.76       599\n",
            "\n",
            "    accuracy                           0.82      1519\n",
            "   macro avg       0.81      0.80      0.81      1519\n",
            "weighted avg       0.81      0.82      0.81      1519\n",
            "\n"
          ],
          "name": "stdout"
        }
      ]
    },
    {
      "cell_type": "markdown",
      "metadata": {
        "id": "OaTlOp2a-7EG"
      },
      "source": [
        "## 3 : Remove with variance "
      ]
    },
    {
      "cell_type": "code",
      "metadata": {
        "id": "viAqk_q0-igW",
        "outputId": "8ab0a540-81d4-4172-ddbe-5de96e60fded",
        "colab": {
          "base_uri": "https://localhost:8080/",
          "height": 202
        }
      },
      "source": [
        "Decision_2 = DecisionTreeClassifier(max_depth = 2, random_state = 0) \n",
        "Decision_2.fit(X_train_remove_variance,y_train)\n",
        "\n",
        "X_test_remove_variance = set_variance_threshold.transform(X_test)\n",
        "\n",
        "predict_8 = Decision_2.predict(X_test_remove_variance)  \n",
        "\n",
        "print(confusion_matrix(y_test,predict_8)) \n",
        "print(classification_report(y_test,predict_8))"
      ],
      "execution_count": 112,
      "outputs": [
        {
          "output_type": "stream",
          "text": [
            "[[885  35]\n",
            " [175 424]]\n",
            "              precision    recall  f1-score   support\n",
            "\n",
            "           0       0.83      0.96      0.89       920\n",
            "           1       0.92      0.71      0.80       599\n",
            "\n",
            "    accuracy                           0.86      1519\n",
            "   macro avg       0.88      0.83      0.85      1519\n",
            "weighted avg       0.87      0.86      0.86      1519\n",
            "\n"
          ],
          "name": "stdout"
        }
      ]
    },
    {
      "cell_type": "markdown",
      "metadata": {
        "id": "yy2b2FG6DqP1"
      },
      "source": [
        "## 4 Model with random_f "
      ]
    },
    {
      "cell_type": "code",
      "metadata": {
        "id": "cRLc07A2_h5i",
        "outputId": "94e09d13-9b63-4acd-be8c-a789411f7662",
        "colab": {
          "base_uri": "https://localhost:8080/",
          "height": 218
        }
      },
      "source": [
        "Decision_3 = DecisionTreeClassifier(max_depth = 2, random_state = 0)\n",
        "\n",
        "Decision_3.fit(X_train_f,y_train)\n",
        "\n",
        "X_test_f = set_f.transform(X_test)\n",
        "\n",
        "predict_9 = Decision_3.predict(X_test_f)\n",
        "\n",
        "print(confusion_matrix(y_test,predict_9))\n",
        "print(classification_report(y_test,predict_9))\n",
        "print(predict_9)"
      ],
      "execution_count": 113,
      "outputs": [
        {
          "output_type": "stream",
          "text": [
            "[[858  62]\n",
            " [174 425]]\n",
            "              precision    recall  f1-score   support\n",
            "\n",
            "           0       0.83      0.93      0.88       920\n",
            "           1       0.87      0.71      0.78       599\n",
            "\n",
            "    accuracy                           0.84      1519\n",
            "   macro avg       0.85      0.82      0.83      1519\n",
            "weighted avg       0.85      0.84      0.84      1519\n",
            "\n",
            "[1 0 0 ... 0 1 0]\n"
          ],
          "name": "stdout"
        }
      ]
    },
    {
      "cell_type": "markdown",
      "metadata": {
        "id": "sy2weiYesvji"
      },
      "source": [
        ""
      ]
    },
    {
      "cell_type": "code",
      "metadata": {
        "id": "z97TN7Jp2F_X"
      },
      "source": [
        ""
      ],
      "execution_count": 113,
      "outputs": []
    }
  ]
}